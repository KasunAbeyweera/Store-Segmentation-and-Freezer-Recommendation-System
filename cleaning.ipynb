{
 "cells": [
  {
   "cell_type": "markdown",
   "source": [
    "## Importing Libraries"
   ],
   "metadata": {
    "collapsed": false
   }
  },
  {
   "cell_type": "code",
   "execution_count": 525,
   "outputs": [],
   "source": [
    "# Importing necessary libraries\n",
    "import pandas as pd\n",
    "import numpy as np\n",
    "import matplotlib.pyplot as plt\n",
    "import seaborn as sns"
   ],
   "metadata": {
    "collapsed": false,
    "ExecuteTime": {
     "start_time": "2023-05-04T18:49:48.982117Z",
     "end_time": "2023-05-04T18:49:49.150106Z"
    }
   }
  },
  {
   "cell_type": "markdown",
   "source": [
    "## Exploratory data analysis"
   ],
   "metadata": {
    "collapsed": false
   }
  },
  {
   "cell_type": "code",
   "execution_count": 526,
   "outputs": [],
   "source": [
    "# Loading data\n",
    "sales_data = pd.read_csv('sales_data.csv')\n",
    "outlet_data = pd.read_csv('outlets_data.csv')\n",
    "product_data = pd.read_csv('product_data.csv')\n",
    "week_data = pd.read_csv('week_data.csv')\n",
    "freezer_data = pd.read_csv('freezer_data.csv')"
   ],
   "metadata": {
    "collapsed": false,
    "ExecuteTime": {
     "start_time": "2023-05-04T18:49:49.007107Z",
     "end_time": "2023-05-04T18:49:49.213100Z"
    }
   }
  },
  {
   "cell_type": "code",
   "execution_count": 527,
   "outputs": [
    {
     "name": "stdout",
     "output_type": "stream",
     "text": [
      "<class 'pandas.core.frame.DataFrame'>\n",
      "RangeIndex: 988 entries, 0 to 987\n",
      "Data columns (total 2 columns):\n",
      " #   Column      Non-Null Count  Dtype \n",
      "---  ------      --------------  ----- \n",
      " 0   Outlet_ID   988 non-null    object\n",
      " 1   area(sqft)  988 non-null    int64 \n",
      "dtypes: int64(1), object(1)\n",
      "memory usage: 15.6+ KB\n"
     ]
    }
   ],
   "source": [
    "outlet_data.info()"
   ],
   "metadata": {
    "collapsed": false,
    "ExecuteTime": {
     "start_time": "2023-05-04T18:49:49.061126Z",
     "end_time": "2023-05-04T18:49:49.213100Z"
    }
   }
  },
  {
   "cell_type": "code",
   "execution_count": 528,
   "outputs": [
    {
     "name": "stdout",
     "output_type": "stream",
     "text": [
      "951\n"
     ]
    }
   ],
   "source": [
    "# get the unique items in the \"Outlet_ID\" column\n",
    "unique_items_count = outlet_data[\"Outlet_ID\"].nunique()\n",
    "print(unique_items_count)\n"
   ],
   "metadata": {
    "collapsed": false,
    "ExecuteTime": {
     "start_time": "2023-05-04T18:49:49.077100Z",
     "end_time": "2023-05-04T18:49:49.225100Z"
    }
   }
  },
  {
   "cell_type": "markdown",
   "source": [
    "This shows there are duplicated Outlets"
   ],
   "metadata": {
    "collapsed": false
   }
  },
  {
   "cell_type": "markdown",
   "source": [
    "to handle this issue data will be aggregate based on the Outlet ID and will take the average of the area (sqft) column"
   ],
   "metadata": {
    "collapsed": false
   }
  },
  {
   "cell_type": "code",
   "execution_count": 529,
   "outputs": [],
   "source": [
    "#aggregate the data based on the Outlet ID and take the average of the area (sqft) column\n",
    "outlet_data = outlet_data.groupby('Outlet_ID', as_index=False)['area(sqft)'].mean()\n"
   ],
   "metadata": {
    "collapsed": false,
    "ExecuteTime": {
     "start_time": "2023-05-04T18:49:49.092100Z",
     "end_time": "2023-05-04T18:49:49.225100Z"
    }
   }
  },
  {
   "cell_type": "code",
   "execution_count": 530,
   "outputs": [],
   "source": [
    "#Join the datasets\n",
    "sales_data = pd.merge(sales_data, outlet_data, on='Outlet_ID')\n",
    "product_subset = product_data[['pid', 'volume','price']]\n",
    "sales_data = pd.merge(sales_data, product_subset, on='pid')\n",
    "sales_data = pd.merge(sales_data, week_data, on='week')\n"
   ],
   "metadata": {
    "collapsed": false,
    "ExecuteTime": {
     "start_time": "2023-05-04T18:49:49.110100Z",
     "end_time": "2023-05-04T18:49:49.225100Z"
    }
   }
  },
  {
   "cell_type": "code",
   "execution_count": 531,
   "outputs": [
    {
     "name": "stdout",
     "output_type": "stream",
     "text": [
      "  Outlet_ID  week  pid       product_name  no_units  area(sqft)  volume  \\\n",
      "0    ID7203     1  IP1  Vanilla Mini Cone     874.0      5660.0     0.2   \n",
      "1    ID1878     1  IP1  Vanilla Mini Cone     918.0      4138.0     0.2   \n",
      "2    ID1740     1  IP1  Vanilla Mini Cone     188.0      5546.0     0.2   \n",
      "3    ID4366     1  IP1  Vanilla Mini Cone     117.0      5134.0     0.2   \n",
      "4    ID4722     1  IP1  Vanilla Mini Cone     327.0      5593.0     0.2   \n",
      "\n",
      "   price Start Date  End Date  \n",
      "0    100   1/2/2023  1/8/2023  \n",
      "1    100   1/2/2023  1/8/2023  \n",
      "2    100   1/2/2023  1/8/2023  \n",
      "3    100   1/2/2023  1/8/2023  \n",
      "4    100   1/2/2023  1/8/2023  \n",
      "  Outlet_ID  area(sqft)\n",
      "0    ID1008      3387.0\n",
      "1    ID1012      1931.0\n",
      "2    ID1024      3127.0\n",
      "3    ID1029      5294.0\n",
      "4    ID1036      2584.0\n",
      "   pid  volume              product_name  price\n",
      "0  IP1     0.2         Vanilla Mini Cone    100\n",
      "1  IP2     0.2      Chocolate Petite Bar     90\n",
      "2  IP3     0.2       Strawberry Tiny Cup    110\n",
      "3  IP4     0.2        Mint Bite-size Pop    100\n",
      "4  IP5     0.2  Butter Pecan Small Stick    100\n",
      "   week Start Date   End Date\n",
      "0     1   1/2/2023   1/8/2023\n",
      "1     2   1/9/2023  1/15/2023\n",
      "2     3  1/16/2023  1/22/2023\n",
      "3     4  1/23/2023  1/29/2023\n",
      "4     5  1/30/2023   2/5/2023\n",
      "    Freezer Name Model Number  Volume Capacity (Liters)  \\\n",
      "0    ChillMaster         M001                        55   \n",
      "1     FreezeZone         M002                        75   \n",
      "2       CoolTech         M003                       120   \n",
      "3  mini CoolTech         M004                        30   \n",
      "4   IceBlast Pro         M005                       150   \n",
      "\n",
      "   Power and maitainance Cost (LKR) per 100 hours  \n",
      "0                                            2500  \n",
      "1                                            2800  \n",
      "2                                            3200  \n",
      "3                                            1800  \n",
      "4                                            3500  \n"
     ]
    }
   ],
   "source": [
    "# Exploring data\n",
    "print(sales_data.head())\n",
    "print(outlet_data.head())\n",
    "print(product_data.head())\n",
    "print(week_data.head())\n",
    "print(freezer_data.head())"
   ],
   "metadata": {
    "collapsed": false,
    "ExecuteTime": {
     "start_time": "2023-05-04T18:49:49.158100Z",
     "end_time": "2023-05-04T18:49:49.226107Z"
    }
   }
  },
  {
   "cell_type": "code",
   "execution_count": 532,
   "outputs": [
    {
     "name": "stdout",
     "output_type": "stream",
     "text": [
      "<class 'pandas.core.frame.DataFrame'>\n",
      "Int64Index: 81000 entries, 0 to 80999\n",
      "Data columns (total 10 columns):\n",
      " #   Column        Non-Null Count  Dtype  \n",
      "---  ------        --------------  -----  \n",
      " 0   Outlet_ID     81000 non-null  object \n",
      " 1   week          81000 non-null  int64  \n",
      " 2   pid           81000 non-null  object \n",
      " 3   product_name  81000 non-null  object \n",
      " 4   no_units      81000 non-null  float64\n",
      " 5   area(sqft)    81000 non-null  float64\n",
      " 6   volume        81000 non-null  float64\n",
      " 7   price         81000 non-null  int64  \n",
      " 8   Start Date    81000 non-null  object \n",
      " 9   End Date      81000 non-null  object \n",
      "dtypes: float64(3), int64(2), object(5)\n",
      "memory usage: 6.8+ MB\n",
      "None\n"
     ]
    }
   ],
   "source": [
    "print(sales_data.info())"
   ],
   "metadata": {
    "collapsed": false,
    "ExecuteTime": {
     "start_time": "2023-05-04T18:49:49.172107Z",
     "end_time": "2023-05-04T18:49:49.226107Z"
    }
   }
  },
  {
   "cell_type": "code",
   "execution_count": 533,
   "outputs": [
    {
     "name": "stdout",
     "output_type": "stream",
     "text": [
      "Duplicate rows =  10\n"
     ]
    }
   ],
   "source": [
    "duplicates = sales_data.duplicated().sum()\n",
    "print(\"Duplicate rows = \", duplicates)"
   ],
   "metadata": {
    "collapsed": false,
    "ExecuteTime": {
     "start_time": "2023-05-04T18:49:49.218100Z",
     "end_time": "2023-05-04T18:49:49.277108Z"
    }
   }
  },
  {
   "cell_type": "code",
   "execution_count": 534,
   "outputs": [
    {
     "name": "stdout",
     "output_type": "stream",
     "text": [
      "  Outlet_ID  week  pid       product_name  no_units  area(sqft)  volume  \\\n",
      "0    ID7203     1  IP1  Vanilla Mini Cone     874.0      5660.0     0.2   \n",
      "1    ID1878     1  IP1  Vanilla Mini Cone     918.0      4138.0     0.2   \n",
      "2    ID1740     1  IP1  Vanilla Mini Cone     188.0      5546.0     0.2   \n",
      "3    ID4366     1  IP1  Vanilla Mini Cone     117.0      5134.0     0.2   \n",
      "4    ID4722     1  IP1  Vanilla Mini Cone     327.0      5593.0     0.2   \n",
      "\n",
      "   price Start Date  End Date  \n",
      "0    100   1/2/2023  1/8/2023  \n",
      "1    100   1/2/2023  1/8/2023  \n",
      "2    100   1/2/2023  1/8/2023  \n",
      "3    100   1/2/2023  1/8/2023  \n",
      "4    100   1/2/2023  1/8/2023  \n"
     ]
    }
   ],
   "source": [
    "# Sales Data EDA and Visualization\n",
    "# Summary statistics\n",
    "print(sales_data.head())\n"
   ],
   "metadata": {
    "collapsed": false,
    "ExecuteTime": {
     "start_time": "2023-05-04T18:49:49.269100Z",
     "end_time": "2023-05-04T18:49:49.310109Z"
    }
   }
  },
  {
   "cell_type": "code",
   "execution_count": 535,
   "outputs": [
    {
     "name": "stdout",
     "output_type": "stream",
     "text": [
      "               week      no_units    area(sqft)        volume         price\n",
      "count  81000.000000  81000.000000  81000.000000  81000.000000  81000.000000\n",
      "mean       6.504432    373.143543   4456.357907      0.600711    605.927778\n",
      "std        3.453426    370.546966   2435.984613      0.400002    507.211877\n",
      "min        1.000000     20.000000    123.000000      0.200000     90.000000\n",
      "25%        4.000000     79.000000   2607.000000      0.200000    100.000000\n",
      "50%        7.000000    210.000000   4057.000000      1.000000   1000.000000\n",
      "75%       10.000000    593.000000   6157.000000      1.000000   1100.000000\n",
      "max       12.000000   1499.000000   9950.000000      1.000000   1200.000000\n"
     ]
    }
   ],
   "source": [
    "print(sales_data.describe())"
   ],
   "metadata": {
    "collapsed": false,
    "ExecuteTime": {
     "start_time": "2023-05-04T18:49:49.281100Z",
     "end_time": "2023-05-04T18:49:49.355107Z"
    }
   }
  },
  {
   "cell_type": "code",
   "execution_count": 536,
   "outputs": [
    {
     "data": {
      "text/plain": "<Figure size 640x480 with 1 Axes>",
      "image/png": "[encoded data removed]"
     },
     "metadata": {},
     "output_type": "display_data"
    },
    {
     "data": {
      "text/plain": "<Figure size 640x480 with 1 Axes>",
      "image/png": "[encoded data removed]"
     },
     "metadata": {},
     "output_type": "display_data"
    }
   ],
   "source": [
    "# Distribution plot of no_units\n",
    "sns.histplot(sales_data['no_units'])\n",
    "plt.show()\n",
    "\n",
    "# Distribution plot of no_units\n",
    "# sns.histplot(sales_data['area(sqft)'])\n",
    "plt.show()\n",
    "\n",
    "# Line plot of no_units over time\n",
    "sns.lineplot(x='week', y='no_units', data=sales_data)\n",
    "plt.show()"
   ],
   "metadata": {
    "collapsed": false,
    "ExecuteTime": {
     "start_time": "2023-05-04T18:49:49.312101Z",
     "end_time": "2023-05-04T18:49:50.227119Z"
    }
   }
  },
  {
   "cell_type": "code",
   "execution_count": 537,
   "outputs": [
    {
     "name": "stdout",
     "output_type": "stream",
     "text": [
      "Duplicate rows =  10\n",
      "<class 'pandas.core.frame.DataFrame'>\n",
      "Int64Index: 81000 entries, 0 to 80999\n",
      "Data columns (total 10 columns):\n",
      " #   Column        Non-Null Count  Dtype  \n",
      "---  ------        --------------  -----  \n",
      " 0   Outlet_ID     81000 non-null  object \n",
      " 1   week          81000 non-null  int64  \n",
      " 2   pid           81000 non-null  object \n",
      " 3   product_name  81000 non-null  object \n",
      " 4   no_units      81000 non-null  float64\n",
      " 5   area(sqft)    81000 non-null  float64\n",
      " 6   volume        81000 non-null  float64\n",
      " 7   price         81000 non-null  int64  \n",
      " 8   Start Date    81000 non-null  object \n",
      " 9   End Date      81000 non-null  object \n",
      "dtypes: float64(3), int64(2), object(5)\n",
      "memory usage: 6.8+ MB\n"
     ]
    }
   ],
   "source": [
    "duplicates = sales_data.duplicated().sum()\n",
    "print(\"Duplicate rows = \", duplicates)\n",
    "sales_data.info()"
   ],
   "metadata": {
    "collapsed": false,
    "ExecuteTime": {
     "start_time": "2023-05-04T18:49:50.227119Z",
     "end_time": "2023-05-04T18:49:50.291102Z"
    }
   }
  },
  {
   "cell_type": "code",
   "execution_count": 538,
   "outputs": [
    {
     "name": "stdout",
     "output_type": "stream",
     "text": [
      "Outlet_ID       0\n",
      "week            0\n",
      "pid             0\n",
      "product_name    0\n",
      "no_units        0\n",
      "area(sqft)      0\n",
      "volume          0\n",
      "price           0\n",
      "Start Date      0\n",
      "End Date        0\n",
      "dtype: int64\n"
     ]
    }
   ],
   "source": [
    "# Check if there is missing values\n",
    "missing = sales_data.isnull().sum()\n",
    "print(missing)\n"
   ],
   "metadata": {
    "collapsed": false,
    "ExecuteTime": {
     "start_time": "2023-05-04T18:49:50.292100Z",
     "end_time": "2023-05-04T18:49:50.359108Z"
    }
   }
  },
  {
   "cell_type": "code",
   "execution_count": 539,
   "outputs": [
    {
     "name": "stdout",
     "output_type": "stream",
     "text": [
      "Duplicate rows =  0\n",
      "<class 'pandas.core.frame.DataFrame'>\n",
      "Int64Index: 80990 entries, 0 to 80999\n",
      "Data columns (total 10 columns):\n",
      " #   Column        Non-Null Count  Dtype  \n",
      "---  ------        --------------  -----  \n",
      " 0   Outlet_ID     80990 non-null  object \n",
      " 1   week          80990 non-null  int64  \n",
      " 2   pid           80990 non-null  object \n",
      " 3   product_name  80990 non-null  object \n",
      " 4   no_units      80990 non-null  float64\n",
      " 5   area(sqft)    80990 non-null  float64\n",
      " 6   volume        80990 non-null  float64\n",
      " 7   price         80990 non-null  int64  \n",
      " 8   Start Date    80990 non-null  object \n",
      " 9   End Date      80990 non-null  object \n",
      "dtypes: float64(3), int64(2), object(5)\n",
      "memory usage: 6.8+ MB\n"
     ]
    }
   ],
   "source": [
    "# Drop the duplicate rows\n",
    "sales_data.drop_duplicates(inplace=True)\n",
    "duplicates = sales_data.duplicated().sum()\n",
    "print(\"Duplicate rows = \", duplicates)\n",
    "sales_data.info()"
   ],
   "metadata": {
    "collapsed": false,
    "ExecuteTime": {
     "start_time": "2023-05-04T18:49:50.341108Z",
     "end_time": "2023-05-04T18:49:50.450100Z"
    }
   }
  },
  {
   "cell_type": "code",
   "execution_count": 540,
   "outputs": [],
   "source": [
    "sales_data.to_csv('Merged-data.csv', index=False)"
   ],
   "metadata": {
    "collapsed": false,
    "ExecuteTime": {
     "start_time": "2023-05-04T18:49:50.450100Z",
     "end_time": "2023-05-04T18:49:50.704101Z"
    }
   }
  },
  {
   "cell_type": "markdown",
   "source": [
    "## feature engineering"
   ],
   "metadata": {
    "collapsed": false
   }
  },
  {
   "cell_type": "code",
   "execution_count": 541,
   "outputs": [],
   "source": [
    "# Loading data\n",
    "merged_df = pd.read_csv('Merged-data.csv')"
   ],
   "metadata": {
    "collapsed": false,
    "ExecuteTime": {
     "start_time": "2023-05-04T18:49:50.705104Z",
     "end_time": "2023-05-04T18:49:50.782165Z"
    }
   }
  },
  {
   "cell_type": "code",
   "execution_count": 542,
   "outputs": [],
   "source": [
    "# Convert the Start Date and End Date columns to datetime objects\n",
    "merged_df[\"Start Date\"] = pd.to_datetime(merged_df[\"Start Date\"])\n",
    "merged_df[\"End Date\"] = pd.to_datetime(merged_df[\"End Date\"])\n",
    "# extract the month information\n",
    "merged_df['Month'] = merged_df['End Date'].dt.month\n"
   ],
   "metadata": {
    "collapsed": false,
    "ExecuteTime": {
     "start_time": "2023-05-04T18:49:50.783176Z",
     "end_time": "2023-05-04T18:49:50.815105Z"
    }
   }
  },
  {
   "cell_type": "code",
   "execution_count": 543,
   "outputs": [
    {
     "name": "stdout",
     "output_type": "stream",
     "text": [
      "  Outlet_ID  week  pid       product_name  no_units  area(sqft)  volume  \\\n",
      "0    ID7203     1  IP1  Vanilla Mini Cone     874.0      5660.0     0.2   \n",
      "1    ID1878     1  IP1  Vanilla Mini Cone     918.0      4138.0     0.2   \n",
      "2    ID1740     1  IP1  Vanilla Mini Cone     188.0      5546.0     0.2   \n",
      "3    ID4366     1  IP1  Vanilla Mini Cone     117.0      5134.0     0.2   \n",
      "4    ID4722     1  IP1  Vanilla Mini Cone     327.0      5593.0     0.2   \n",
      "\n",
      "   price Start Date   End Date  Month  \n",
      "0    100 2023-01-02 2023-01-08      1  \n",
      "1    100 2023-01-02 2023-01-08      1  \n",
      "2    100 2023-01-02 2023-01-08      1  \n",
      "3    100 2023-01-02 2023-01-08      1  \n",
      "4    100 2023-01-02 2023-01-08      1  \n"
     ]
    }
   ],
   "source": [
    "print(merged_df.head())"
   ],
   "metadata": {
    "collapsed": false,
    "ExecuteTime": {
     "start_time": "2023-05-04T18:49:50.813101Z",
     "end_time": "2023-05-04T18:49:50.829099Z"
    }
   }
  },
  {
   "cell_type": "code",
   "execution_count": 544,
   "outputs": [],
   "source": [
    "#creating total sales column\n",
    "merged_df['total_sales'] = merged_df['no_units'] * merged_df['price']\n",
    "merged_df['total_volume'] = merged_df['no_units'] * merged_df['volume']\n"
   ],
   "metadata": {
    "collapsed": false,
    "ExecuteTime": {
     "start_time": "2023-05-04T18:49:50.830101Z",
     "end_time": "2023-05-04T18:49:50.872106Z"
    }
   }
  },
  {
   "cell_type": "code",
   "execution_count": 545,
   "outputs": [],
   "source": [
    "#extracking product type from pid\n",
    "merged_df['product_type'] = merged_df['pid'].str[:2]\n"
   ],
   "metadata": {
    "collapsed": false,
    "ExecuteTime": {
     "start_time": "2023-05-04T18:49:50.844101Z",
     "end_time": "2023-05-04T18:49:50.882101Z"
    }
   }
  },
  {
   "cell_type": "code",
   "execution_count": 546,
   "outputs": [
    {
     "name": "stdout",
     "output_type": "stream",
     "text": [
      "  Outlet_ID  week  pid       product_name  no_units  area(sqft)  volume  \\\n",
      "0    ID7203     1  IP1  Vanilla Mini Cone     874.0      5660.0     0.2   \n",
      "1    ID1878     1  IP1  Vanilla Mini Cone     918.0      4138.0     0.2   \n",
      "2    ID1740     1  IP1  Vanilla Mini Cone     188.0      5546.0     0.2   \n",
      "3    ID4366     1  IP1  Vanilla Mini Cone     117.0      5134.0     0.2   \n",
      "4    ID4722     1  IP1  Vanilla Mini Cone     327.0      5593.0     0.2   \n",
      "\n",
      "   price Start Date   End Date  Month  total_sales  total_volume product_type  \n",
      "0    100 2023-01-02 2023-01-08      1      87400.0         174.8           IP  \n",
      "1    100 2023-01-02 2023-01-08      1      91800.0         183.6           IP  \n",
      "2    100 2023-01-02 2023-01-08      1      18800.0          37.6           IP  \n",
      "3    100 2023-01-02 2023-01-08      1      11700.0          23.4           IP  \n",
      "4    100 2023-01-02 2023-01-08      1      32700.0          65.4           IP  \n"
     ]
    }
   ],
   "source": [
    "print(merged_df.head())"
   ],
   "metadata": {
    "collapsed": false,
    "ExecuteTime": {
     "start_time": "2023-05-04T18:49:50.875117Z",
     "end_time": "2023-05-04T18:49:50.891099Z"
    }
   }
  },
  {
   "cell_type": "code",
   "execution_count": 547,
   "outputs": [],
   "source": [
    "merged_df.to_csv('new_features.csv', index=False)"
   ],
   "metadata": {
    "collapsed": false,
    "ExecuteTime": {
     "start_time": "2023-05-04T18:49:50.891099Z",
     "end_time": "2023-05-04T18:49:52.045100Z"
    }
   }
  },
  {
   "cell_type": "code",
   "execution_count": 548,
   "outputs": [],
   "source": [
    "import pandas as pd\n",
    "from sklearn.preprocessing import LabelEncoder\n",
    "\n",
    "# Load data into a pandas dataframe\n",
    "df = pd.read_csv('new_features.csv')\n",
    "\n",
    "# Label encode the 'pid' column\n",
    "le = LabelEncoder()\n",
    "df['pid'] = le.fit_transform(df['pid'])\n",
    "df['product_type'] = le.fit_transform(df['product_type'])\n",
    "# df['Outlet_ID'] = le.fit_transform(df['Outlet_ID'])\n",
    "\n",
    "# Create the final dataframe by selecting required columns\n",
    "final_df = df[['Outlet_ID', 'week', 'pid', 'no_units', 'area(sqft)', 'volume', 'price', 'Month', 'total_sales', 'product_type','total_volume']]\n",
    "final_df.head()\n",
    "final_df.to_csv('weekly.csv', index=False)"
   ],
   "metadata": {
    "collapsed": false,
    "ExecuteTime": {
     "start_time": "2023-05-04T18:49:52.042100Z",
     "end_time": "2023-05-04T18:49:52.421133Z"
    }
   }
  },
  {
   "cell_type": "code",
   "execution_count": 550,
   "outputs": [
    {
     "name": "stdout",
     "output_type": "stream",
     "text": [
      "  Outlet_ID  product_type  Month  total_sales  no_units  total_volume  \\\n",
      "0    ID1008             1      1    1365360.0   13564.0        2712.8   \n",
      "1    ID1008             1      2     837760.0    8281.0        1656.2   \n",
      "2    ID1008             1      3    1087870.0   11157.0        2231.4   \n",
      "3    ID1012             0      1    1162350.0    1053.0        1053.0   \n",
      "4    ID1012             0      2    1333800.0    1188.0        1188.0   \n",
      "\n",
      "   area(sqft)  \n",
      "0      3387.0  \n",
      "1      3387.0  \n",
      "2      3387.0  \n",
      "3      1931.0  \n",
      "4      1931.0  \n"
     ]
    }
   ],
   "source": [
    "\n",
    "# Read the original dataset\n",
    "df = pd.read_csv('weekly.csv')\n",
    "\n",
    "# Create a new dataframe with the specified columns\n",
    "new_df = df[['Outlet_ID', 'no_units', 'volume', 'Month', 'total_sales', 'product_type','total_volume']].copy()\n",
    "\n",
    "# Group the data by Outlet_ID, product_type, and week, and calculate the sum of sales, units, and volume for each group\n",
    "grouped_df = new_df.groupby(['Outlet_ID', 'product_type', 'Month']).agg({'total_sales': 'sum', 'no_units': 'sum', 'total_volume': 'sum'}).reset_index()\n",
    "grouped_df = pd.merge(grouped_df, outlet_data, on='Outlet_ID')\n",
    "grouped_df.to_csv('final.csv', index=False)\n",
    "# Print the new dataset\n",
    "print(grouped_df.head())"
   ],
   "metadata": {
    "collapsed": false,
    "ExecuteTime": {
     "start_time": "2023-05-04T18:50:11.908101Z",
     "end_time": "2023-05-04T18:50:12.074099Z"
    }
   }
  },
  {
   "cell_type": "markdown",
   "source": [
    "## Model Building"
   ],
   "metadata": {
    "collapsed": false
   }
  },
  {
   "cell_type": "code",
   "execution_count": 490,
   "outputs": [],
   "source": [
    "from sklearn.preprocessing import StandardScaler, MinMaxScaler\n",
    "\n",
    "# Load data into a pandas dataframe\n",
    "model_df = pd.read_csv('test.csv')\n",
    "model_df['Outlet_ID'] = le.fit_transform(model_df['Outlet_ID'])\n",
    "# model_df = model_df.drop(['Outlet_ID'], axis=1)\n",
    "# scaler = MinMaxScaler()\n",
    "# model_df = scaler.fit_transform(model_df1)\n"
   ],
   "metadata": {
    "collapsed": false,
    "ExecuteTime": {
     "start_time": "2023-05-04T18:46:47.738741Z",
     "end_time": "2023-05-04T18:46:47.775745Z"
    }
   }
  },
  {
   "cell_type": "code",
   "execution_count": 494,
   "outputs": [
    {
     "data": {
      "text/plain": "<Figure size 640x480 with 1 Axes>",
      "image/png": "[encoded data removed]"
     },
     "metadata": {},
     "output_type": "display_data"
    }
   ],
   "source": [
    "#Using the elbow method to find the ideal number of clusters\n",
    "from sklearn.cluster import KMeans\n",
    "wcss = []\n",
    "for i in range(1,11):\n",
    "    km=KMeans(n_clusters=i,init='k-means++', max_iter=300, n_init=10, random_state=41)\n",
    "    km.fit(model_df)\n",
    "    wcss.append(km.inertia_)\n",
    "plt.plot(range(1,11),wcss)\n",
    "plt.title('Elbow Method')\n",
    "plt.xlabel('Number of clusters')\n",
    "plt.ylabel('wcss')\n",
    "plt.show()"
   ],
   "metadata": {
    "collapsed": false,
    "ExecuteTime": {
     "start_time": "2023-05-04T18:47:12.559741Z",
     "end_time": "2023-05-04T18:47:13.148738Z"
    }
   }
  },
  {
   "cell_type": "code",
   "execution_count": 495,
   "outputs": [
    {
     "name": "stdout",
     "output_type": "stream",
     "text": [
      "For n_clusters=2, The Silhouette Coefficient is 0.7522130398426743\n",
      "For n_clusters=3, The Silhouette Coefficient is 0.6970443565418671\n",
      "For n_clusters=4, The Silhouette Coefficient is 0.7013545252358947\n",
      "For n_clusters=5, The Silhouette Coefficient is 0.5410847089235257\n",
      "For n_clusters=6, The Silhouette Coefficient is 0.5348536631916411\n",
      "For n_clusters=7, The Silhouette Coefficient is 0.5603358042047875\n",
      "For n_clusters=8, The Silhouette Coefficient is 0.5589371253906033\n",
      "For n_clusters=9, The Silhouette Coefficient is 0.5605839364045946\n",
      "For n_clusters=10, The Silhouette Coefficient is 0.537701508367509\n"
     ]
    }
   ],
   "source": [
    "#Calculating the silhoutte coefficient\n",
    "from sklearn.metrics import silhouette_score\n",
    "from sklearn.cluster import KMeans\n",
    "\n",
    "\n",
    "\n",
    "for n_cluster in range(2, 11):\n",
    "    kmeans = KMeans(n_clusters=n_cluster).fit(model_df)\n",
    "    label = kmeans.labels_\n",
    "    sil_coeff = silhouette_score(model_df, label, metric='euclidean')\n",
    "    print(\"For n_clusters={}, The Silhouette Coefficient is {}\".format(n_cluster, sil_coeff))"
   ],
   "metadata": {
    "collapsed": false,
    "ExecuteTime": {
     "start_time": "2023-05-04T18:47:16.648750Z",
     "end_time": "2023-05-04T18:47:19.874740Z"
    }
   }
  },
  {
   "cell_type": "code",
   "execution_count": 496,
   "outputs": [
    {
     "name": "stdout",
     "output_type": "stream",
     "text": [
      "k: 1  cost: 4587762050340077.0\n",
      "k: 2  cost: 989117929315068.6\n",
      "k: 3  cost: 601251394463110.6\n",
      "k: 4  cost: 416394219736463.3\n",
      "k: 5  cost: 265009451016957.28\n",
      "k: 6  cost: 195490420528080.25\n",
      "k: 7  cost: 144477830806616.6\n",
      "k: 8  cost: 110849181318939.92\n",
      "k: 9  cost: 89790287830917.19\n",
      "k: 10  cost: 74500039956183.81\n",
      "\n"
     ]
    }
   ],
   "source": [
    "for k in range (1, 11):\n",
    "    kmeans_model = KMeans(n_clusters=k, random_state=1).fit(model_df)\n",
    "    labels = kmeans_model.labels_\n",
    "    interia = kmeans_model.inertia_\n",
    "    print (\"k:\",k, \" cost:\", interia)\n",
    "print()"
   ],
   "metadata": {
    "collapsed": false,
    "ExecuteTime": {
     "start_time": "2023-05-04T18:47:22.376739Z",
     "end_time": "2023-05-04T18:47:22.784738Z"
    }
   }
  },
  {
   "cell_type": "code",
   "execution_count": 497,
   "outputs": [
    {
     "data": {
      "text/plain": "<Figure size 640x480 with 1 Axes>",
      "image/png": "[encoded data removed]"
     },
     "metadata": {},
     "output_type": "display_data"
    },
    {
     "name": "stdout",
     "output_type": "stream",
     "text": [
      "[-4587762050340076.0, -989117929315068.8, -601254648706706.1, -416413482136033.5, -265002692161975.3, -195672795992008.8, -144477830806616.56, -110800595543889.88, -89416075959669.78, -74498083598969.25, -59911480596031.18, -51838391931008.11, -44354025724570.97, -38927587440955.734, -34032565602554.65, -29592196176783.562, -25685072997241.953, -23032917324501.65, -21087640138171.29]\n"
     ]
    }
   ],
   "source": [
    "import pylab as pl\n",
    "from sklearn.decomposition import PCA\n",
    "\n",
    "Nc = range(1, 20)\n",
    "kmeans = [KMeans(n_clusters=i) for i in Nc]\n",
    "kmeans\n",
    "score = [kmeans[i].fit(model_df).score(model_df) for i in range(len(kmeans))]\n",
    "score\n",
    "pl.plot(Nc,score)\n",
    "pl.xlabel('Number of Clusters')\n",
    "pl.ylabel('Score')\n",
    "pl.title('Elbow Curve')\n",
    "pl.show()\n",
    "\n",
    "print(score)"
   ],
   "metadata": {
    "collapsed": false,
    "ExecuteTime": {
     "start_time": "2023-05-04T18:47:25.450740Z",
     "end_time": "2023-05-04T18:47:26.674738Z"
    }
   }
  },
  {
   "cell_type": "markdown",
   "source": [],
   "metadata": {
    "collapsed": false
   }
  }
 ],
 "metadata": {
  "kernelspec": {
   "display_name": "Python 3",
   "language": "python",
   "name": "python3"
  },
  "language_info": {
   "codemirror_mode": {
    "name": "ipython",
    "version": 2
   },
   "file_extension": ".py",
   "mimetype": "text/x-python",
   "name": "python",
   "nbconvert_exporter": "python",
   "pygments_lexer": "ipython2",
   "version": "2.7.6"
  }
 },
 "nbformat": 4,
 "nbformat_minor": 0
}
