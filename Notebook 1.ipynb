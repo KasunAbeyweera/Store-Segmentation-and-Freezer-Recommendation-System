{
 "cells": [
  {
   "cell_type": "markdown",
   "source": [
    "## Importing Libraries"
   ],
   "metadata": {
    "collapsed": false
   }
  },
  {
   "cell_type": "code",
   "execution_count": 213,
   "outputs": [],
   "source": [
    "# Importing necessary libraries\n",
    "import pandas as pd\n",
    "import numpy as np\n",
    "import matplotlib.pyplot as plt\n",
    "import seaborn as sns"
   ],
   "metadata": {
    "collapsed": false,
    "ExecuteTime": {
     "start_time": "2023-05-04T16:14:53.399013Z",
     "end_time": "2023-05-04T16:14:53.480003Z"
    }
   }
  },
  {
   "cell_type": "markdown",
   "source": [
    "## Exploratory data analysis"
   ],
   "metadata": {
    "collapsed": false
   }
  },
  {
   "cell_type": "code",
   "execution_count": 214,
   "outputs": [],
   "source": [
    "# Loading data\n",
    "sales_data = pd.read_csv('sales_data.csv')\n",
    "outlet_data = pd.read_csv('outlets_data.csv')\n",
    "product_data = pd.read_csv('product_data.csv')\n",
    "week_data = pd.read_csv('week_data.csv')\n",
    "freezer_data = pd.read_csv('freezer_data.csv')"
   ],
   "metadata": {
    "collapsed": false,
    "ExecuteTime": {
     "start_time": "2023-05-04T16:14:53.417011Z",
     "end_time": "2023-05-04T16:14:53.484003Z"
    }
   }
  },
  {
   "cell_type": "code",
   "execution_count": 215,
   "outputs": [
    {
     "name": "stdout",
     "output_type": "stream",
     "text": [
      "<class 'pandas.core.frame.DataFrame'>\n",
      "RangeIndex: 988 entries, 0 to 987\n",
      "Data columns (total 2 columns):\n",
      " #   Column      Non-Null Count  Dtype \n",
      "---  ------      --------------  ----- \n",
      " 0   Outlet_ID   988 non-null    object\n",
      " 1   area(sqft)  988 non-null    int64 \n",
      "dtypes: int64(1), object(1)\n",
      "memory usage: 15.6+ KB\n"
     ]
    }
   ],
   "source": [
    "outlet_data.info()"
   ],
   "metadata": {
    "collapsed": false,
    "ExecuteTime": {
     "start_time": "2023-05-04T16:14:53.465007Z",
     "end_time": "2023-05-04T16:14:53.484003Z"
    }
   }
  },
  {
   "cell_type": "code",
   "execution_count": 216,
   "outputs": [
    {
     "name": "stdout",
     "output_type": "stream",
     "text": [
      "951\n"
     ]
    }
   ],
   "source": [
    "# get the unique items in the \"Outlet_ID\" column\n",
    "unique_items_count = outlet_data[\"Outlet_ID\"].nunique()\n",
    "print(unique_items_count)\n"
   ],
   "metadata": {
    "collapsed": false,
    "ExecuteTime": {
     "start_time": "2023-05-04T16:14:53.482002Z",
     "end_time": "2023-05-04T16:14:53.498002Z"
    }
   }
  },
  {
   "cell_type": "markdown",
   "source": [
    "This shows there are duplicated Outlets"
   ],
   "metadata": {
    "collapsed": false
   }
  },
  {
   "cell_type": "markdown",
   "source": [
    "to handle this issue data will be aggregate based on the Outlet ID and will take the average of the area (sqft) column"
   ],
   "metadata": {
    "collapsed": false
   }
  },
  {
   "cell_type": "code",
   "execution_count": 217,
   "outputs": [],
   "source": [
    "#aggregate the data based on the Outlet ID and take the average of the area (sqft) column\n",
    "outlet_data = outlet_data.groupby('Outlet_ID', as_index=False)['area(sqft)'].mean()\n"
   ],
   "metadata": {
    "collapsed": false,
    "ExecuteTime": {
     "start_time": "2023-05-04T16:14:53.498002Z",
     "end_time": "2023-05-04T16:14:53.526009Z"
    }
   }
  },
  {
   "cell_type": "code",
   "execution_count": 218,
   "outputs": [],
   "source": [
    "#Join the datasets\n",
    "sales_data = pd.merge(sales_data, outlet_data, on='Outlet_ID')\n",
    "product_subset = product_data[['pid', 'volume','price']]\n",
    "sales_data = pd.merge(sales_data, product_subset, on='pid')\n",
    "sales_data = pd.merge(sales_data, week_data, on='week')\n"
   ],
   "metadata": {
    "collapsed": false,
    "ExecuteTime": {
     "start_time": "2023-05-04T16:14:53.514002Z",
     "end_time": "2023-05-04T16:14:53.562002Z"
    }
   }
  },
  {
   "cell_type": "code",
   "execution_count": 219,
   "outputs": [
    {
     "name": "stdout",
     "output_type": "stream",
     "text": [
      "  Outlet_ID  week  pid       product_name  no_units  area(sqft)  volume  \\\n",
      "0    ID7203     1  IP1  Vanilla Mini Cone     874.0      5660.0     0.2   \n",
      "1    ID1878     1  IP1  Vanilla Mini Cone     918.0      4138.0     0.2   \n",
      "2    ID1740     1  IP1  Vanilla Mini Cone     188.0      5546.0     0.2   \n",
      "3    ID4366     1  IP1  Vanilla Mini Cone     117.0      5134.0     0.2   \n",
      "4    ID4722     1  IP1  Vanilla Mini Cone     327.0      5593.0     0.2   \n",
      "\n",
      "   price Start Date  End Date  \n",
      "0    100   1/2/2023  1/8/2023  \n",
      "1    100   1/2/2023  1/8/2023  \n",
      "2    100   1/2/2023  1/8/2023  \n",
      "3    100   1/2/2023  1/8/2023  \n",
      "4    100   1/2/2023  1/8/2023  \n",
      "  Outlet_ID  area(sqft)\n",
      "0    ID1008      3387.0\n",
      "1    ID1012      1931.0\n",
      "2    ID1024      3127.0\n",
      "3    ID1029      5294.0\n",
      "4    ID1036      2584.0\n",
      "   pid  volume              product_name  price\n",
      "0  IP1     0.2         Vanilla Mini Cone    100\n",
      "1  IP2     0.2      Chocolate Petite Bar     90\n",
      "2  IP3     0.2       Strawberry Tiny Cup    110\n",
      "3  IP4     0.2        Mint Bite-size Pop    100\n",
      "4  IP5     0.2  Butter Pecan Small Stick    100\n",
      "   week Start Date   End Date\n",
      "0     1   1/2/2023   1/8/2023\n",
      "1     2   1/9/2023  1/15/2023\n",
      "2     3  1/16/2023  1/22/2023\n",
      "3     4  1/23/2023  1/29/2023\n",
      "4     5  1/30/2023   2/5/2023\n",
      "    Freezer Name Model Number  Volume Capacity (Liters)  \\\n",
      "0    ChillMaster         M001                        55   \n",
      "1     FreezeZone         M002                        75   \n",
      "2       CoolTech         M003                       120   \n",
      "3  mini CoolTech         M004                        30   \n",
      "4   IceBlast Pro         M005                       150   \n",
      "\n",
      "   Power and maitainance Cost (LKR) per 100 hours  \n",
      "0                                            2500  \n",
      "1                                            2800  \n",
      "2                                            3200  \n",
      "3                                            1800  \n",
      "4                                            3500  \n"
     ]
    }
   ],
   "source": [
    "# Exploring data\n",
    "print(sales_data.head())\n",
    "print(outlet_data.head())\n",
    "print(product_data.head())\n",
    "print(week_data.head())\n",
    "print(freezer_data.head())"
   ],
   "metadata": {
    "collapsed": false,
    "ExecuteTime": {
     "start_time": "2023-05-04T16:14:53.562002Z",
     "end_time": "2023-05-04T16:14:53.576012Z"
    }
   }
  },
  {
   "cell_type": "code",
   "execution_count": 220,
   "outputs": [
    {
     "name": "stdout",
     "output_type": "stream",
     "text": [
      "<class 'pandas.core.frame.DataFrame'>\n",
      "Int64Index: 81000 entries, 0 to 80999\n",
      "Data columns (total 10 columns):\n",
      " #   Column        Non-Null Count  Dtype  \n",
      "---  ------        --------------  -----  \n",
      " 0   Outlet_ID     81000 non-null  object \n",
      " 1   week          81000 non-null  int64  \n",
      " 2   pid           81000 non-null  object \n",
      " 3   product_name  81000 non-null  object \n",
      " 4   no_units      81000 non-null  float64\n",
      " 5   area(sqft)    81000 non-null  float64\n",
      " 6   volume        81000 non-null  float64\n",
      " 7   price         81000 non-null  int64  \n",
      " 8   Start Date    81000 non-null  object \n",
      " 9   End Date      81000 non-null  object \n",
      "dtypes: float64(3), int64(2), object(5)\n",
      "memory usage: 6.8+ MB\n",
      "None\n"
     ]
    }
   ],
   "source": [
    "print(sales_data.info())"
   ],
   "metadata": {
    "collapsed": false,
    "ExecuteTime": {
     "start_time": "2023-05-04T16:14:53.577002Z",
     "end_time": "2023-05-04T16:14:53.624002Z"
    }
   }
  },
  {
   "cell_type": "code",
   "execution_count": 221,
   "outputs": [
    {
     "name": "stdout",
     "output_type": "stream",
     "text": [
      "Duplicate rows =  10\n"
     ]
    }
   ],
   "source": [
    "duplicates = sales_data.duplicated().sum()\n",
    "print(\"Duplicate rows = \", duplicates)"
   ],
   "metadata": {
    "collapsed": false,
    "ExecuteTime": {
     "start_time": "2023-05-04T16:14:53.624002Z",
     "end_time": "2023-05-04T16:14:53.674009Z"
    }
   }
  },
  {
   "cell_type": "code",
   "execution_count": 222,
   "outputs": [
    {
     "name": "stdout",
     "output_type": "stream",
     "text": [
      "  Outlet_ID  week  pid       product_name  no_units  area(sqft)  volume  \\\n",
      "0    ID7203     1  IP1  Vanilla Mini Cone     874.0      5660.0     0.2   \n",
      "1    ID1878     1  IP1  Vanilla Mini Cone     918.0      4138.0     0.2   \n",
      "2    ID1740     1  IP1  Vanilla Mini Cone     188.0      5546.0     0.2   \n",
      "3    ID4366     1  IP1  Vanilla Mini Cone     117.0      5134.0     0.2   \n",
      "4    ID4722     1  IP1  Vanilla Mini Cone     327.0      5593.0     0.2   \n",
      "\n",
      "   price Start Date  End Date  \n",
      "0    100   1/2/2023  1/8/2023  \n",
      "1    100   1/2/2023  1/8/2023  \n",
      "2    100   1/2/2023  1/8/2023  \n",
      "3    100   1/2/2023  1/8/2023  \n",
      "4    100   1/2/2023  1/8/2023  \n"
     ]
    }
   ],
   "source": [
    "# Sales Data EDA and Visualization\n",
    "# Summary statistics\n",
    "print(sales_data.head())\n"
   ],
   "metadata": {
    "collapsed": false,
    "ExecuteTime": {
     "start_time": "2023-05-04T16:14:53.656012Z",
     "end_time": "2023-05-04T16:14:53.674009Z"
    }
   }
  },
  {
   "cell_type": "code",
   "execution_count": 223,
   "outputs": [
    {
     "name": "stdout",
     "output_type": "stream",
     "text": [
      "               week      no_units    area(sqft)        volume         price\n",
      "count  81000.000000  81000.000000  81000.000000  81000.000000  81000.000000\n",
      "mean       6.504432    373.143543   4456.357907      0.600711    605.927778\n",
      "std        3.453426    370.546966   2435.984613      0.400002    507.211877\n",
      "min        1.000000     20.000000    123.000000      0.200000     90.000000\n",
      "25%        4.000000     79.000000   2607.000000      0.200000    100.000000\n",
      "50%        7.000000    210.000000   4057.000000      1.000000   1000.000000\n",
      "75%       10.000000    593.000000   6157.000000      1.000000   1100.000000\n",
      "max       12.000000   1499.000000   9950.000000      1.000000   1200.000000\n"
     ]
    }
   ],
   "source": [
    "print(sales_data.describe())"
   ],
   "metadata": {
    "collapsed": false,
    "ExecuteTime": {
     "start_time": "2023-05-04T16:14:53.670002Z",
     "end_time": "2023-05-04T16:14:53.731009Z"
    }
   }
  },
  {
   "cell_type": "code",
   "execution_count": 230,
   "outputs": [
    {
     "data": {
      "text/plain": "<Figure size 640x480 with 1 Axes>",
      "image/png": "[encoded data removed]"
     },
     "metadata": {},
     "output_type": "display_data"
    },
    {
     "data": {
      "text/plain": "<Figure size 640x480 with 1 Axes>",
      "image/png": "[encoded data removed]"
     },
     "metadata": {},
     "output_type": "display_data"
    }
   ],
   "source": [
    "# Distribution plot of no_units\n",
    "sns.histplot(sales_data['no_units'])\n",
    "plt.show()\n",
    "\n",
    "# Distribution plot of no_units\n",
    "# sns.histplot(sales_data['area(sqft)'])\n",
    "plt.show()\n",
    "\n",
    "# Line plot of no_units over time\n",
    "sns.lineplot(x='week', y='no_units', data=sales_data)\n",
    "plt.show()"
   ],
   "metadata": {
    "collapsed": false,
    "ExecuteTime": {
     "start_time": "2023-05-04T16:16:23.043879Z",
     "end_time": "2023-05-04T16:16:24.055877Z"
    }
   }
  },
  {
   "cell_type": "code",
   "execution_count": 225,
   "outputs": [
    {
     "name": "stdout",
     "output_type": "stream",
     "text": [
      "Duplicate rows =  10\n",
      "<class 'pandas.core.frame.DataFrame'>\n",
      "Int64Index: 81000 entries, 0 to 80999\n",
      "Data columns (total 10 columns):\n",
      " #   Column        Non-Null Count  Dtype  \n",
      "---  ------        --------------  -----  \n",
      " 0   Outlet_ID     81000 non-null  object \n",
      " 1   week          81000 non-null  int64  \n",
      " 2   pid           81000 non-null  object \n",
      " 3   product_name  81000 non-null  object \n",
      " 4   no_units      81000 non-null  float64\n",
      " 5   area(sqft)    81000 non-null  float64\n",
      " 6   volume        81000 non-null  float64\n",
      " 7   price         81000 non-null  int64  \n",
      " 8   Start Date    81000 non-null  object \n",
      " 9   End Date      81000 non-null  object \n",
      "dtypes: float64(3), int64(2), object(5)\n",
      "memory usage: 6.8+ MB\n"
     ]
    }
   ],
   "source": [
    "duplicates = sales_data.duplicated().sum()\n",
    "print(\"Duplicate rows = \", duplicates)\n",
    "sales_data.info()"
   ],
   "metadata": {
    "collapsed": false,
    "ExecuteTime": {
     "start_time": "2023-05-04T16:14:55.218002Z",
     "end_time": "2023-05-04T16:14:55.294011Z"
    }
   }
  },
  {
   "cell_type": "code",
   "execution_count": 226,
   "outputs": [
    {
     "name": "stdout",
     "output_type": "stream",
     "text": [
      "Outlet_ID       0\n",
      "week            0\n",
      "pid             0\n",
      "product_name    0\n",
      "no_units        0\n",
      "area(sqft)      0\n",
      "volume          0\n",
      "price           0\n",
      "Start Date      0\n",
      "End Date        0\n",
      "dtype: int64\n"
     ]
    }
   ],
   "source": [
    "# Check if there is missing values\n",
    "missing = sales_data.isnull().sum()\n",
    "print(missing)\n"
   ],
   "metadata": {
    "collapsed": false,
    "ExecuteTime": {
     "start_time": "2023-05-04T16:14:55.296001Z",
     "end_time": "2023-05-04T16:14:55.342001Z"
    }
   }
  },
  {
   "cell_type": "code",
   "execution_count": 227,
   "outputs": [
    {
     "name": "stdout",
     "output_type": "stream",
     "text": [
      "Duplicate rows =  0\n",
      "<class 'pandas.core.frame.DataFrame'>\n",
      "Int64Index: 80990 entries, 0 to 80999\n",
      "Data columns (total 10 columns):\n",
      " #   Column        Non-Null Count  Dtype  \n",
      "---  ------        --------------  -----  \n",
      " 0   Outlet_ID     80990 non-null  object \n",
      " 1   week          80990 non-null  int64  \n",
      " 2   pid           80990 non-null  object \n",
      " 3   product_name  80990 non-null  object \n",
      " 4   no_units      80990 non-null  float64\n",
      " 5   area(sqft)    80990 non-null  float64\n",
      " 6   volume        80990 non-null  float64\n",
      " 7   price         80990 non-null  int64  \n",
      " 8   Start Date    80990 non-null  object \n",
      " 9   End Date      80990 non-null  object \n",
      "dtypes: float64(3), int64(2), object(5)\n",
      "memory usage: 6.8+ MB\n"
     ]
    }
   ],
   "source": [
    "# Drop the duplicate rows\n",
    "sales_data.drop_duplicates(inplace=True)\n",
    "duplicates = sales_data.duplicated().sum()\n",
    "print(\"Duplicate rows = \", duplicates)\n",
    "sales_data.info()"
   ],
   "metadata": {
    "collapsed": false,
    "ExecuteTime": {
     "start_time": "2023-05-04T16:14:55.342001Z",
     "end_time": "2023-05-04T16:14:55.438008Z"
    }
   }
  },
  {
   "cell_type": "code",
   "execution_count": 228,
   "outputs": [],
   "source": [
    "sales_data.to_csv('Merged-data.csv', index=False)"
   ],
   "metadata": {
    "collapsed": false,
    "ExecuteTime": {
     "start_time": "2023-05-04T16:14:55.439023Z",
     "end_time": "2023-05-04T16:14:55.721009Z"
    }
   }
  },
  {
   "cell_type": "markdown",
   "source": [
    "## feature engineering"
   ],
   "metadata": {
    "collapsed": false
   }
  },
  {
   "cell_type": "code",
   "execution_count": 231,
   "outputs": [],
   "source": [
    "# Loading data\n",
    "merged_df = pd.read_csv('Merged-data.csv')"
   ],
   "metadata": {
    "collapsed": false,
    "ExecuteTime": {
     "start_time": "2023-05-04T16:22:21.756558Z",
     "end_time": "2023-05-04T16:22:21.845558Z"
    }
   }
  },
  {
   "cell_type": "code",
   "execution_count": 233,
   "outputs": [],
   "source": [
    "# Convert the Start Date and End Date columns to datetime objects\n",
    "merged_df[\"Start Date\"] = pd.to_datetime(merged_df[\"Start Date\"])\n",
    "merged_df[\"End Date\"] = pd.to_datetime(merged_df[\"End Date\"])\n",
    "# extract the month information\n",
    "merged_df['Month'] = merged_df['End Date'].dt.month\n"
   ],
   "metadata": {
    "collapsed": false,
    "ExecuteTime": {
     "start_time": "2023-05-04T16:37:44.819556Z",
     "end_time": "2023-05-04T16:37:44.843570Z"
    }
   }
  },
  {
   "cell_type": "code",
   "execution_count": 235,
   "outputs": [
    {
     "name": "stdout",
     "output_type": "stream",
     "text": [
      "  Outlet_ID  week  pid       product_name  no_units  area(sqft)  volume  \\\n",
      "0    ID7203     1  IP1  Vanilla Mini Cone     874.0      5660.0     0.2   \n",
      "1    ID1878     1  IP1  Vanilla Mini Cone     918.0      4138.0     0.2   \n",
      "2    ID1740     1  IP1  Vanilla Mini Cone     188.0      5546.0     0.2   \n",
      "3    ID4366     1  IP1  Vanilla Mini Cone     117.0      5134.0     0.2   \n",
      "4    ID4722     1  IP1  Vanilla Mini Cone     327.0      5593.0     0.2   \n",
      "\n",
      "   price Start Date   End Date  Month  \n",
      "0    100 2023-01-02 2023-01-08      1  \n",
      "1    100 2023-01-02 2023-01-08      1  \n",
      "2    100 2023-01-02 2023-01-08      1  \n",
      "3    100 2023-01-02 2023-01-08      1  \n",
      "4    100 2023-01-02 2023-01-08      1  \n"
     ]
    }
   ],
   "source": [
    "print(merged_df.head())"
   ],
   "metadata": {
    "collapsed": false,
    "ExecuteTime": {
     "start_time": "2023-05-04T16:38:41.757481Z",
     "end_time": "2023-05-04T16:38:41.776489Z"
    }
   }
  },
  {
   "cell_type": "code",
   "execution_count": 236,
   "outputs": [],
   "source": [
    "#creating total sales column\n",
    "merged_df['total_sales'] = merged_df['no_units'] * merged_df['price']\n"
   ],
   "metadata": {
    "collapsed": false,
    "ExecuteTime": {
     "start_time": "2023-05-04T16:40:56.492759Z",
     "end_time": "2023-05-04T16:40:56.511765Z"
    }
   }
  },
  {
   "cell_type": "code",
   "execution_count": 237,
   "outputs": [],
   "source": [
    "#extracking product type from pid\n",
    "merged_df['product_type'] = merged_df['pid'].str[:2]\n"
   ],
   "metadata": {
    "collapsed": false,
    "ExecuteTime": {
     "start_time": "2023-05-04T16:44:49.874820Z",
     "end_time": "2023-05-04T16:44:49.937816Z"
    }
   }
  },
  {
   "cell_type": "code",
   "execution_count": 238,
   "outputs": [
    {
     "name": "stdout",
     "output_type": "stream",
     "text": [
      "  Outlet_ID  week  pid       product_name  no_units  area(sqft)  volume  \\\n",
      "0    ID7203     1  IP1  Vanilla Mini Cone     874.0      5660.0     0.2   \n",
      "1    ID1878     1  IP1  Vanilla Mini Cone     918.0      4138.0     0.2   \n",
      "2    ID1740     1  IP1  Vanilla Mini Cone     188.0      5546.0     0.2   \n",
      "3    ID4366     1  IP1  Vanilla Mini Cone     117.0      5134.0     0.2   \n",
      "4    ID4722     1  IP1  Vanilla Mini Cone     327.0      5593.0     0.2   \n",
      "\n",
      "   price Start Date   End Date  Month  total_sales product_type  \n",
      "0    100 2023-01-02 2023-01-08      1      87400.0           IP  \n",
      "1    100 2023-01-02 2023-01-08      1      91800.0           IP  \n",
      "2    100 2023-01-02 2023-01-08      1      18800.0           IP  \n",
      "3    100 2023-01-02 2023-01-08      1      11700.0           IP  \n",
      "4    100 2023-01-02 2023-01-08      1      32700.0           IP  \n"
     ]
    }
   ],
   "source": [
    "print(merged_df.head())"
   ],
   "metadata": {
    "collapsed": false,
    "ExecuteTime": {
     "start_time": "2023-05-04T16:45:01.646811Z",
     "end_time": "2023-05-04T16:45:01.664809Z"
    }
   }
  },
  {
   "cell_type": "markdown",
   "source": [],
   "metadata": {
    "collapsed": false
   }
  }
 ],
 "metadata": {
  "kernelspec": {
   "display_name": "Python 3",
   "language": "python",
   "name": "python3"
  },
  "language_info": {
   "codemirror_mode": {
    "name": "ipython",
    "version": 2
   },
   "file_extension": ".py",
   "mimetype": "text/x-python",
   "name": "python",
   "nbconvert_exporter": "python",
   "pygments_lexer": "ipython2",
   "version": "2.7.6"
  }
 },
 "nbformat": 4,
 "nbformat_minor": 0
}
